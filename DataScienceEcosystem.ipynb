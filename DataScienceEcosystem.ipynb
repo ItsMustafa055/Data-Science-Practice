{
 "cells": [
  {
   "cell_type": "markdown",
   "id": "ea5c104a-97e9-461d-baee-352b309da946",
   "metadata": {},
   "source": [
    "# Data Science Ecosystem"
   ]
  },
  {
   "cell_type": "markdown",
   "id": "c38e2c15-ae89-4ec8-a775-8aa9f5c2dec4",
   "metadata": {},
   "source": [
    "In this notebook, Data Science Tools and Ecosystem are summerized."
   ]
  },
  {
   "cell_type": "markdown",
   "id": "20f465f5-4398-4434-8fa5-4e4a15d27634",
   "metadata": {},
   "source": [
    "**Objectives:**\n",
    "- Popular Languages\n",
    "- Libraries\n",
    "- Arithemetic Expressions"
   ]
  },
  {
   "cell_type": "markdown",
   "id": "22f40fa4-c4e6-4d77-8503-9a762f7b3204",
   "metadata": {},
   "source": [
    "Some of the popular languages that Data Scientist use are:\n",
    "1. Python\n",
    "2. R\n",
    "3. SQL"
   ]
  },
  {
   "cell_type": "markdown",
   "id": "76790856-5a1a-44b2-8183-df7d2f1ddd74",
   "metadata": {},
   "source": [
    "Some of the commonly used libraries used by Data Science includes:\n",
    "1. Matplotlib\n",
    "2. Seaborn\n",
    "3. Pandas"
   ]
  },
  {
   "cell_type": "markdown",
   "id": "1b29fe59-3a2c-4612-9d46-2b8f2a6af369",
   "metadata": {},
   "source": [
    " | Data Science Tools |\n",
    " | -------------|\n",
    " | Visual Studio Code |\n",
    " | Jupyter |\n",
    " | Google Colab |"
   ]
  },
  {
   "cell_type": "markdown",
   "id": "b5994601-1b55-4144-804e-30cfaf50ad28",
   "metadata": {},
   "source": [
    "### Below are the few examples of evaluating arithmetic expression in Python"
   ]
  },
  {
   "cell_type": "code",
   "execution_count": 1,
   "id": "8699c4f4-ccb1-4a51-ac5e-88c67bea1ec6",
   "metadata": {},
   "outputs": [
    {
     "data": {
      "text/plain": [
       "17"
      ]
     },
     "execution_count": 1,
     "metadata": {},
     "output_type": "execute_result"
    }
   ],
   "source": [
    "(3*4)+5  # this a simple arithmetic expression to multiply then add integers"
   ]
  },
  {
   "cell_type": "code",
   "execution_count": 3,
   "id": "14dca409-52a5-4f6d-a964-20ac328458b5",
   "metadata": {},
   "outputs": [
    {
     "data": {
      "text/plain": [
       "3.3333333333333335"
      ]
     },
     "execution_count": 3,
     "metadata": {},
     "output_type": "execute_result"
    }
   ],
   "source": [
    "minutes / 60    #This will convert 200 minutes to hours by dividing by 60"
   ]
  },
  {
   "cell_type": "code",
   "execution_count": null,
   "id": "c781d5c9-a71c-4d6c-89c7-1d88070cf718",
   "metadata": {},
   "outputs": [],
   "source": []
  },
  {
   "cell_type": "markdown",
   "id": "1edb380b-3b83-4298-bd9e-27091af1359a",
   "metadata": {},
   "source": [
    "## Author\n",
    "Mustafa"
   ]
  },
  {
   "cell_type": "code",
   "execution_count": null,
   "id": "5c76a1b4-b3a9-40b1-b456-d21309c3489f",
   "metadata": {},
   "outputs": [],
   "source": []
  },
  {
   "cell_type": "code",
   "execution_count": null,
   "id": "e63ba797-8d0d-4080-bf1b-516a8ae3a29c",
   "metadata": {},
   "outputs": [],
   "source": []
  }
 ],
 "metadata": {
  "kernelspec": {
   "display_name": "Python 3 (ipykernel)",
   "language": "python",
   "name": "python3"
  },
  "language_info": {
   "codemirror_mode": {
    "name": "ipython",
    "version": 3
   },
   "file_extension": ".py",
   "mimetype": "text/x-python",
   "name": "python",
   "nbconvert_exporter": "python",
   "pygments_lexer": "ipython3",
   "version": "3.11.7"
  }
 },
 "nbformat": 4,
 "nbformat_minor": 5
}
